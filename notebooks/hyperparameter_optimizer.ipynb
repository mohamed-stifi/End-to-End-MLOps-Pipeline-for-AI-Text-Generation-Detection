{
 "cells": [
  {
   "cell_type": "code",
   "execution_count": 1,
   "id": "eecd422f",
   "metadata": {},
   "outputs": [
    {
     "data": {
      "text/plain": [
       "'/home/mohamed-stifi/Desktop/pfa-s4/notebooks'"
      ]
     },
     "execution_count": 1,
     "metadata": {},
     "output_type": "execute_result"
    }
   ],
   "source": [
    "%pwd"
   ]
  },
  {
   "cell_type": "code",
   "execution_count": 2,
   "id": "796dd278",
   "metadata": {},
   "outputs": [
    {
     "data": {
      "text/plain": [
       "'/home/mohamed-stifi/Desktop/pfa-s4'"
      ]
     },
     "execution_count": 2,
     "metadata": {},
     "output_type": "execute_result"
    }
   ],
   "source": [
    "import os\n",
    "os.chdir('..')\n",
    "%pwd"
   ]
  },
  {
   "cell_type": "code",
   "execution_count": 3,
   "id": "0ddce6cf",
   "metadata": {},
   "outputs": [
    {
     "data": {
      "text/plain": [
       "'/home/mohamed-stifi/Desktop/pfa-s4'"
      ]
     },
     "execution_count": 3,
     "metadata": {},
     "output_type": "execute_result"
    }
   ],
   "source": [
    "%pwd"
   ]
  },
  {
   "cell_type": "code",
   "execution_count": 4,
   "id": "2f03aef4",
   "metadata": {},
   "outputs": [
    {
     "name": "stdout",
     "output_type": "stream",
     "text": [
      "/home/mohamed-stifi/Desktop/pfa-s4\n"
     ]
    },
    {
     "name": "stderr",
     "output_type": "stream",
     "text": [
      "/home/mohamed-stifi/Desktop/pfa-s4/pfa-venv/lib/python3.12/site-packages/tqdm/auto.py:21: TqdmWarning: IProgress not found. Please update jupyter and ipywidgets. See https://ipywidgets.readthedocs.io/en/stable/user_install.html\n",
      "  from .autonotebook import tqdm as notebook_tqdm\n"
     ]
    }
   ],
   "source": [
    "from text_classifier.config.configuration import ConfigurationManager\n",
    "from text_classifier.components.hyperparameter_optimizer import HyperparameterOptimizer"
   ]
  },
  {
   "cell_type": "code",
   "execution_count": 5,
   "id": "5d190746",
   "metadata": {},
   "outputs": [
    {
     "name": "stdout",
     "output_type": "stream",
     "text": [
      "[2025-05-30 22:25:28,624: INFO: common: text_classifier.utils.common: yaml file: /home/mohamed-stifi/Desktop/pfa-s4/config/config.yaml loaded successfully]\n",
      "[2025-05-30 22:25:28,684: INFO: common: text_classifier.utils.common: yaml file: /home/mohamed-stifi/Desktop/pfa-s4/config/params.yaml loaded successfully]\n",
      "[2025-05-30 22:25:28,692: INFO: common: text_classifier.utils.common: created directory at: artifacts]\n",
      "[2025-05-30 22:25:28,695: INFO: common: text_classifier.utils.common: created directory at: artifacts/hyperparameter_optimization]\n"
     ]
    }
   ],
   "source": [
    "config = ConfigurationManager()\n",
    "hyperparameter_optimizer_config = config.get_hyperparameter_optimization_config()"
   ]
  },
  {
   "cell_type": "code",
   "execution_count": 6,
   "id": "99f15ad5",
   "metadata": {},
   "outputs": [
    {
     "data": {
      "text/plain": [
       "HyperparameterOptimizationConfig(root_dir=PosixPath('artifacts/hyperparameter_optimization'), data_path=PosixPath('artifacts/data_transformation'), model_types_to_tune=BoxList(['lstm', 'bert', 'roberta']), n_trials=15, metric_to_optimize='val_acc', direction='maximize', study_name_prefix='text_classifier_hpo', hpo_params_ranges=ConfigBox({'lstm': {'learning_rate': {'type': 'float', 'low': 0.0001, 'high': 0.01, 'log': True}, 'embedding_dim': {'type': 'categorical', 'choices': [64, 128, 256]}, 'hidden_dim': {'type': 'categorical', 'choices': [128, 256, 512]}, 'num_layers': {'type': 'int', 'low': 1, 'high': 3}, 'dropout': {'type': 'float', 'low': 0.1, 'high': 0.5}}, 'bert': {'learning_rate': {'type': 'float', 'low': 1e-05, 'high': 0.0001, 'log': True}, 'dropout': {'type': 'float', 'low': 0.05, 'high': 0.3}}, 'roberta': {'learning_rate': {'type': 'float', 'low': 1e-05, 'high': 0.0001, 'log': True}, 'dropout': {'type': 'float', 'low': 0.05, 'high': 0.3}}}), mlflow_tracking_uri='mlruns', trainer_hpo_config=ConfigBox({'max_epochs': 3, 'log_every_n_steps': 50, 'enable_checkpointing': False, 'enable_progress_bar': True, 'enable_model_summary': False}))"
      ]
     },
     "execution_count": 6,
     "metadata": {},
     "output_type": "execute_result"
    }
   ],
   "source": [
    "hyperparameter_optimizer_config"
   ]
  },
  {
   "cell_type": "code",
   "execution_count": 7,
   "id": "79bd8828",
   "metadata": {},
   "outputs": [],
   "source": [
    "hyperparameter_optimizer_config.trainer_hpo_config.max_epochs = 1\n",
    "hyperparameter_optimizer_config.trainer_hpo_config.log_every_n_steps = 5"
   ]
  },
  {
   "cell_type": "code",
   "execution_count": 8,
   "id": "f647d402",
   "metadata": {},
   "outputs": [],
   "source": [
    "hyperparameter_optimizer_config.n_trials = 3"
   ]
  },
  {
   "cell_type": "code",
   "execution_count": 9,
   "id": "689d8075",
   "metadata": {},
   "outputs": [
    {
     "name": "stdout",
     "output_type": "stream",
     "text": [
      "[2025-05-30 22:25:36,423: INFO: common: text_classifier.utils.common: created directory at: artifacts/hyperparameter_optimization]\n"
     ]
    }
   ],
   "source": [
    "hyperparameter_optimizer = HyperparameterOptimizer(hyperparameter_optimizer_config)"
   ]
  },
  {
   "cell_type": "code",
   "execution_count": 10,
   "id": "28aa6208",
   "metadata": {},
   "outputs": [
    {
     "name": "stdout",
     "output_type": "stream",
     "text": [
      "Help on HyperparameterOptimizer in module text_classifier.components.hyperparameter_optimizer object:\n",
      "\n",
      "class HyperparameterOptimizer(builtins.object)\n",
      " |  HyperparameterOptimizer(config: text_classifier.entity.config_entity.HyperparameterOptimizationConfig)\n",
      " |\n",
      " |  Methods defined here:\n",
      " |\n",
      " |  __init__(self, config: text_classifier.entity.config_entity.HyperparameterOptimizationConfig)\n",
      " |      Initialize self.  See help(type(self)) for accurate signature.\n",
      " |\n",
      " |  optimize(self)\n",
      " |      Runs HPO for all specified model types.\n",
      " |\n",
      " |  ----------------------------------------------------------------------\n",
      " |  Data descriptors defined here:\n",
      " |\n",
      " |  __dict__\n",
      " |      dictionary for instance variables\n",
      " |\n",
      " |  __weakref__\n",
      " |      list of weak references to the object\n",
      "\n"
     ]
    }
   ],
   "source": [
    "help(hyperparameter_optimizer)"
   ]
  },
  {
   "cell_type": "code",
   "execution_count": null,
   "id": "d46eded1",
   "metadata": {},
   "outputs": [
    {
     "name": "stdout",
     "output_type": "stream",
     "text": [
      "[2025-05-30 23:45:40,393: INFO: hyperparameter_optimizer: textClassifierLogger: --- Starting Hyperparameter Optimization for model type: lstm ---]\n"
     ]
    },
    {
     "name": "stderr",
     "output_type": "stream",
     "text": [
      "/home/mohamed-stifi/Desktop/pfa-s4/src/text_classifier/components/hyperparameter_optimizer.py:237: ExperimentalWarning: MLflowCallback is experimental (supported from v1.4.0). The interface can change in the future.\n",
      "  mlflow_optuna_callback = optuna.integration.MLflowCallback(\n",
      "[I 2025-05-30 23:45:43,045] A new study created in memory with name: text_classifier_hpo_lstm_data_transformation\n"
     ]
    },
    {
     "name": "stdout",
     "output_type": "stream",
     "text": [
      "{'learning_rate': {'type': 'float', 'low': 0.0001, 'high': 0.01, 'log': True}, 'embedding_dim': {'type': 'categorical', 'choices': [64, 128, 256]}, 'hidden_dim': {'type': 'categorical', 'choices': [128, 256, 512]}, 'num_layers': {'type': 'int', 'low': 1, 'high': 3}, 'dropout': {'type': 'float', 'low': 0.1, 'high': 0.5}}\n",
      "[2025-05-30 23:45:44,037: ERROR: hyperparameter_optimizer: textClassifierLogger: Error in HPO trial 0 for model lstm: 'NoneType' object has no attribute 'experiment_id']\n",
      "Traceback (most recent call last):\n",
      "  File \"/home/mohamed-stifi/Desktop/pfa-s4/src/text_classifier/components/hyperparameter_optimizer.py\", line 179, in _objective\n",
      "    experiment_name=mlflow.get_experiment_by_name(trial.study.study_name).experiment_id if trial.study.study_name else \"HPO_Trials\",\n",
      "                    ^^^^^^^^^^^^^^^^^^^^^^^^^^^^^^^^^^^^^^^^^^^^^^^^^^^^^^^^^^^^^^^^^^^\n",
      "AttributeError: 'NoneType' object has no attribute 'experiment_id'\n"
     ]
    },
    {
     "name": "stderr",
     "output_type": "stream",
     "text": [
      "/home/mohamed-stifi/Desktop/pfa-s4/pfa-venv/lib/python3.12/site-packages/torch/nn/modules/rnn.py:123: UserWarning: dropout option adds dropout after all but last recurrent layer, so non-zero dropout expects num_layers greater than 1, but got dropout=0.3899110869747672 and num_layers=1\n",
      "  warnings.warn(\n",
      "[I 2025-05-30 23:45:44,117] Trial 0 finished with value: -inf and parameters: {'embedding_dim': 64, 'hidden_dim': 256, 'num_layers': 1, 'dropout': 0.3899110869747672, 'learning_rate': 0.0006052621520988804}. Best is trial 0 with value: -inf.\n",
      "2025/05/30 23:45:44 INFO mlflow.tracking.fluent: Experiment with name 'text_classifier_hpo_lstm_data_transformation' does not exist. Creating a new experiment.\n"
     ]
    },
    {
     "name": "stdout",
     "output_type": "stream",
     "text": [
      "{'learning_rate': {'type': 'float', 'low': 0.0001, 'high': 0.01, 'log': True}, 'embedding_dim': {'type': 'categorical', 'choices': [64, 128, 256]}, 'hidden_dim': {'type': 'categorical', 'choices': [128, 256, 512]}, 'num_layers': {'type': 'int', 'low': 1, 'high': 3}, 'dropout': {'type': 'float', 'low': 0.1, 'high': 0.5}}\n"
     ]
    },
    {
     "name": "stderr",
     "output_type": "stream",
     "text": [
      "/home/mohamed-stifi/Desktop/pfa-s4/pfa-venv/lib/python3.12/site-packages/torch/nn/modules/rnn.py:123: UserWarning: dropout option adds dropout after all but last recurrent layer, so non-zero dropout expects num_layers greater than 1, but got dropout=0.3721678264662095 and num_layers=1\n",
      "  warnings.warn(\n",
      "INFO: GPU available: False, used: False\n"
     ]
    },
    {
     "name": "stdout",
     "output_type": "stream",
     "text": [
      "[2025-05-30 23:45:45,470: INFO: setup: lightning.pytorch.utilities.rank_zero: GPU available: False, used: False]\n"
     ]
    },
    {
     "name": "stderr",
     "output_type": "stream",
     "text": [
      "INFO: TPU available: False, using: 0 TPU cores\n"
     ]
    },
    {
     "name": "stdout",
     "output_type": "stream",
     "text": [
      "[2025-05-30 23:45:45,479: INFO: setup: lightning.pytorch.utilities.rank_zero: TPU available: False, using: 0 TPU cores]\n"
     ]
    },
    {
     "name": "stderr",
     "output_type": "stream",
     "text": [
      "INFO: HPU available: False, using: 0 HPUs\n"
     ]
    },
    {
     "name": "stdout",
     "output_type": "stream",
     "text": [
      "[2025-05-30 23:45:45,484: INFO: setup: lightning.pytorch.utilities.rank_zero: HPU available: False, using: 0 HPUs]\n"
     ]
    },
    {
     "data": {
      "text/html": [
       "<pre style=\"white-space:pre;overflow-x:auto;line-height:normal;font-family:Menlo,'DejaVu Sans Mono',consolas,'Courier New',monospace\">/home/mohamed-stifi/Desktop/pfa-s4/pfa-venv/lib/python3.12/site-packages/rich/live.py:231: UserWarning: install \n",
       "\"ipywidgets\" for Jupyter support\n",
       "  warnings.warn('install \"ipywidgets\" for Jupyter support')\n",
       "</pre>\n"
      ],
      "text/plain": [
       "/home/mohamed-stifi/Desktop/pfa-s4/pfa-venv/lib/python3.12/site-packages/rich/live.py:231: UserWarning: install \n",
       "\"ipywidgets\" for Jupyter support\n",
       "  warnings.warn('install \"ipywidgets\" for Jupyter support')\n"
      ]
     },
     "metadata": {},
     "output_type": "display_data"
    },
    {
     "name": "stderr",
     "output_type": "stream",
     "text": [
      "INFO: `Trainer.fit` stopped: `max_epochs=1` reached.\n"
     ]
    },
    {
     "name": "stdout",
     "output_type": "stream",
     "text": [
      "[2025-05-30 23:47:21,963: INFO: fit_loop: lightning.pytorch.utilities.rank_zero: `Trainer.fit` stopped: `max_epochs=1` reached.]\n"
     ]
    },
    {
     "data": {
      "text/html": [
       "<pre style=\"white-space:pre;overflow-x:auto;line-height:normal;font-family:Menlo,'DejaVu Sans Mono',consolas,'Courier New',monospace\"></pre>\n"
      ],
      "text/plain": []
     },
     "metadata": {},
     "output_type": "display_data"
    },
    {
     "name": "stderr",
     "output_type": "stream",
     "text": [
      "[I 2025-05-30 23:47:22,319] Trial 1 finished with value: 0.949999988079071 and parameters: {'embedding_dim': 256, 'hidden_dim': 128, 'num_layers': 1, 'dropout': 0.3721678264662095, 'learning_rate': 0.00430815379573587}. Best is trial 1 with value: 0.949999988079071.\n"
     ]
    },
    {
     "name": "stdout",
     "output_type": "stream",
     "text": [
      "{'learning_rate': {'type': 'float', 'low': 0.0001, 'high': 0.01, 'log': True}, 'embedding_dim': {'type': 'categorical', 'choices': [64, 128, 256]}, 'hidden_dim': {'type': 'categorical', 'choices': [128, 256, 512]}, 'num_layers': {'type': 'int', 'low': 1, 'high': 3}, 'dropout': {'type': 'float', 'low': 0.1, 'high': 0.5}}\n"
     ]
    },
    {
     "name": "stderr",
     "output_type": "stream",
     "text": [
      "INFO: GPU available: False, used: False\n"
     ]
    },
    {
     "name": "stdout",
     "output_type": "stream",
     "text": [
      "[2025-05-30 23:47:22,860: INFO: setup: lightning.pytorch.utilities.rank_zero: GPU available: False, used: False]\n"
     ]
    },
    {
     "name": "stderr",
     "output_type": "stream",
     "text": [
      "INFO: TPU available: False, using: 0 TPU cores\n"
     ]
    },
    {
     "name": "stdout",
     "output_type": "stream",
     "text": [
      "[2025-05-30 23:47:22,863: INFO: setup: lightning.pytorch.utilities.rank_zero: TPU available: False, using: 0 TPU cores]\n"
     ]
    },
    {
     "name": "stderr",
     "output_type": "stream",
     "text": [
      "INFO: HPU available: False, using: 0 HPUs\n"
     ]
    },
    {
     "name": "stdout",
     "output_type": "stream",
     "text": [
      "[2025-05-30 23:47:22,867: INFO: setup: lightning.pytorch.utilities.rank_zero: HPU available: False, using: 0 HPUs]\n"
     ]
    }
   ],
   "source": [
    "hyperparameter_optimizer.optimize()"
   ]
  },
  {
   "cell_type": "code",
   "execution_count": null,
   "id": "776beb0e",
   "metadata": {},
   "outputs": [],
   "source": []
  }
 ],
 "metadata": {
  "kernelspec": {
   "display_name": "pfa-venv",
   "language": "python",
   "name": "python3"
  },
  "language_info": {
   "codemirror_mode": {
    "name": "ipython",
    "version": 3
   },
   "file_extension": ".py",
   "mimetype": "text/x-python",
   "name": "python",
   "nbconvert_exporter": "python",
   "pygments_lexer": "ipython3",
   "version": "3.12.3"
  }
 },
 "nbformat": 4,
 "nbformat_minor": 5
}
