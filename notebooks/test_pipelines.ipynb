{
 "cells": [
  {
   "cell_type": "code",
   "execution_count": 1,
   "id": "6e0b4906",
   "metadata": {},
   "outputs": [
    {
     "name": "stdout",
     "output_type": "stream",
     "text": [
      "/home/mohamed-stifi/Desktop/pfa-s4\n"
     ]
    },
    {
     "name": "stderr",
     "output_type": "stream",
     "text": [
      "/home/mohamed-stifi/Desktop/pfa-s4/pfa-venv/lib/python3.12/site-packages/tqdm/auto.py:21: TqdmWarning: IProgress not found. Please update jupyter and ipywidgets. See https://ipywidgets.readthedocs.io/en/stable/user_install.html\n",
      "  from .autonotebook import tqdm as notebook_tqdm\n"
     ]
    }
   ],
   "source": [
    "from text_classifier.pipeline.stage_01_data_ingestion import DataIngestionPipeline\n",
    "from text_classifier.pipeline.stage_02_data_validation import DataValidationPipeline\n",
    "from text_classifier.pipeline.stage_03_data_transformation import DataTransformationPipeline\n",
    "from text_classifier.pipeline.stage_04_model_trainer import ModelTrainingPipeline\n",
    "from text_classifier.pipeline.stage_05_model_evaluation import ModelEvaluationPipeline\n",
    "from text_classifier.pipeline.stage_06_hyperparameter_optimization import HyperparameterOptimizationPipeline "
   ]
  },
  {
   "cell_type": "markdown",
   "id": "4c71b42d",
   "metadata": {},
   "source": [
    "## DataIngestionPipeline"
   ]
  },
  {
   "cell_type": "code",
   "execution_count": 2,
   "metadata": {},
   "outputs": [],
   "source": [
    "data_ingestion_pipeline = DataIngestionPipeline()"
   ]
  },
  {
   "cell_type": "code",
   "execution_count": null,
   "metadata": {},
   "outputs": [],
   "source": [
    "data_ingestion_pipeline.main()"
   ]
  },
  {
   "cell_type": "markdown",
   "id": "0b73ca8b",
   "metadata": {},
   "source": [
    "## DataValidationPipeline"
   ]
  },
  {
   "cell_type": "code",
   "execution_count": 4,
   "metadata": {},
   "outputs": [],
   "source": [
    "data_val_pipeline = DataValidationPipeline()"
   ]
  },
  {
   "cell_type": "code",
   "execution_count": 5,
   "metadata": {},
   "outputs": [
    {
     "name": "stdout",
     "output_type": "stream",
     "text": [
      "[2025-06-01 02:29:35,183: INFO: stage_02_data_validation: textClassifierLogger: >>>>>> Stage: Data Validation Stage started <<<<<<]\n",
      "[2025-06-01 02:29:35,345: INFO: common: text_classifier.utils.common: yaml file: /home/mohamed-stifi/Desktop/pfa-s4/config/config.yaml loaded successfully]\n",
      "[2025-06-01 02:29:35,477: INFO: common: text_classifier.utils.common: yaml file: /home/mohamed-stifi/Desktop/pfa-s4/config/params.yaml loaded successfully]\n",
      "[2025-06-01 02:29:35,483: INFO: common: text_classifier.utils.common: created directory at: artifacts]\n",
      "[2025-06-01 02:29:35,486: INFO: common: text_classifier.utils.common: created directory at: artifacts/data_validation]\n",
      "[2025-06-01 02:29:35,487: INFO: data_validation: textClassifierLogger: Data Validation Result: True]\n",
      "[2025-06-01 02:29:35,490: INFO: stage_02_data_validation: textClassifierLogger: Data validation status: Valid]\n",
      "[2025-06-01 02:29:35,492: INFO: stage_02_data_validation: textClassifierLogger: >>>>>> Stage: Data Validation Stage completed successfully <<<<<<\n",
      "\n",
      "x==========x]\n"
     ]
    }
   ],
   "source": [
    "data_val_pipeline.main()"
   ]
  },
  {
   "cell_type": "markdown",
   "id": "a8eb4c56",
   "metadata": {},
   "source": [
    "## DataTransformationPipeline"
   ]
  },
  {
   "cell_type": "code",
   "execution_count": 2,
   "id": "179c6578",
   "metadata": {},
   "outputs": [],
   "source": [
    "data_transformation_pipeline = DataTransformationPipeline()"
   ]
  },
  {
   "cell_type": "code",
   "execution_count": null,
   "id": "12fbc204",
   "metadata": {},
   "outputs": [
    {
     "name": "stdout",
     "output_type": "stream",
     "text": [
      "[2025-06-01 02:38:33,570: INFO: stage_03_data_transformation: textClassifierLogger: >>>>>> Stage: Data Transformation Stage started <<<<<<]\n",
      "[2025-06-01 02:38:33,706: INFO: common: text_classifier.utils.common: yaml file: /home/mohamed-stifi/Desktop/pfa-s4/config/config.yaml loaded successfully]\n",
      "[2025-06-01 02:38:33,777: INFO: common: text_classifier.utils.common: yaml file: /home/mohamed-stifi/Desktop/pfa-s4/config/params.yaml loaded successfully]\n",
      "[2025-06-01 02:38:33,783: INFO: common: text_classifier.utils.common: created directory at: artifacts]\n",
      "[2025-06-01 02:38:33,788: INFO: common: text_classifier.utils.common: created directory at: artifacts/data_transformation]\n"
     ]
    }
   ],
   "source": [
    "data_transformation_pipeline.main()"
   ]
  },
  {
   "cell_type": "markdown",
   "id": "34bc934d",
   "metadata": {},
   "source": [
    "## ModelTrainingPipeline"
   ]
  },
  {
   "cell_type": "code",
   "execution_count": null,
   "id": "32214e39",
   "metadata": {},
   "outputs": [],
   "source": []
  },
  {
   "cell_type": "markdown",
   "id": "fa151481",
   "metadata": {},
   "source": [
    "## ModelEvaluationPipeline"
   ]
  },
  {
   "cell_type": "code",
   "execution_count": null,
   "id": "4d8c376b",
   "metadata": {},
   "outputs": [],
   "source": []
  },
  {
   "cell_type": "markdown",
   "id": "71191219",
   "metadata": {},
   "source": [
    "## HyperparameterOptimizationPipeline"
   ]
  },
  {
   "cell_type": "code",
   "execution_count": null,
   "id": "e84ffcdf",
   "metadata": {},
   "outputs": [],
   "source": [
    "HyperparameterOptimization_pipeline = HyperparameterOptimizationPipeline"
   ]
  },
  {
   "cell_type": "code",
   "execution_count": null,
   "id": "c05d63a8",
   "metadata": {},
   "outputs": [],
   "source": []
  },
  {
   "cell_type": "code",
   "execution_count": null,
   "id": "14ea69e8",
   "metadata": {},
   "outputs": [],
   "source": []
  },
  {
   "cell_type": "code",
   "execution_count": null,
   "id": "628aa531",
   "metadata": {},
   "outputs": [],
   "source": []
  },
  {
   "cell_type": "code",
   "execution_count": null,
   "id": "a97e94e9",
   "metadata": {},
   "outputs": [],
   "source": []
  },
  {
   "cell_type": "code",
   "execution_count": null,
   "id": "4adbc49b",
   "metadata": {},
   "outputs": [],
   "source": []
  },
  {
   "cell_type": "code",
   "execution_count": null,
   "id": "2a999c3e",
   "metadata": {},
   "outputs": [],
   "source": []
  },
  {
   "cell_type": "code",
   "execution_count": null,
   "id": "1ecb2a50",
   "metadata": {},
   "outputs": [],
   "source": []
  },
  {
   "cell_type": "code",
   "execution_count": null,
   "id": "6dba7119",
   "metadata": {},
   "outputs": [],
   "source": []
  },
  {
   "cell_type": "code",
   "execution_count": null,
   "id": "38aef5af",
   "metadata": {},
   "outputs": [],
   "source": []
  },
  {
   "cell_type": "code",
   "execution_count": null,
   "id": "741b4006",
   "metadata": {},
   "outputs": [],
   "source": []
  },
  {
   "cell_type": "code",
   "execution_count": null,
   "id": "1e696ae9",
   "metadata": {},
   "outputs": [],
   "source": []
  },
  {
   "cell_type": "code",
   "execution_count": null,
   "id": "c354bca9",
   "metadata": {},
   "outputs": [],
   "source": []
  },
  {
   "cell_type": "code",
   "execution_count": null,
   "id": "a6354b2a",
   "metadata": {},
   "outputs": [],
   "source": []
  },
  {
   "cell_type": "code",
   "execution_count": null,
   "id": "46b17371",
   "metadata": {},
   "outputs": [],
   "source": []
  },
  {
   "cell_type": "code",
   "execution_count": null,
   "id": "7a1c17d4",
   "metadata": {},
   "outputs": [],
   "source": []
  },
  {
   "cell_type": "code",
   "execution_count": null,
   "id": "418b7503",
   "metadata": {},
   "outputs": [],
   "source": []
  },
  {
   "cell_type": "code",
   "execution_count": null,
   "id": "ae634242",
   "metadata": {},
   "outputs": [],
   "source": []
  },
  {
   "cell_type": "code",
   "execution_count": null,
   "id": "5f5c15ce",
   "metadata": {},
   "outputs": [],
   "source": []
  },
  {
   "cell_type": "code",
   "execution_count": null,
   "id": "5b5f3325",
   "metadata": {},
   "outputs": [],
   "source": []
  },
  {
   "cell_type": "code",
   "execution_count": null,
   "id": "da04ee5d",
   "metadata": {},
   "outputs": [],
   "source": []
  },
  {
   "cell_type": "code",
   "execution_count": null,
   "id": "a82e2c4d",
   "metadata": {},
   "outputs": [],
   "source": []
  },
  {
   "cell_type": "code",
   "execution_count": null,
   "id": "c5ce0cc6",
   "metadata": {},
   "outputs": [],
   "source": []
  },
  {
   "cell_type": "code",
   "execution_count": null,
   "id": "e7a43d3b",
   "metadata": {},
   "outputs": [],
   "source": []
  },
  {
   "cell_type": "code",
   "execution_count": null,
   "id": "a0844781",
   "metadata": {},
   "outputs": [],
   "source": []
  },
  {
   "cell_type": "code",
   "execution_count": null,
   "id": "a542b292",
   "metadata": {},
   "outputs": [],
   "source": []
  },
  {
   "cell_type": "code",
   "execution_count": null,
   "id": "0d36bef0",
   "metadata": {},
   "outputs": [],
   "source": []
  },
  {
   "cell_type": "code",
   "execution_count": null,
   "id": "10d67483",
   "metadata": {},
   "outputs": [],
   "source": []
  },
  {
   "cell_type": "code",
   "execution_count": null,
   "id": "1a216066",
   "metadata": {},
   "outputs": [],
   "source": []
  },
  {
   "cell_type": "code",
   "execution_count": null,
   "id": "346ee90a",
   "metadata": {},
   "outputs": [],
   "source": []
  },
  {
   "cell_type": "code",
   "execution_count": null,
   "id": "bbb606fb",
   "metadata": {},
   "outputs": [],
   "source": []
  },
  {
   "cell_type": "code",
   "execution_count": null,
   "id": "69f8d1a9",
   "metadata": {},
   "outputs": [],
   "source": []
  },
  {
   "cell_type": "code",
   "execution_count": null,
   "id": "bebafe97",
   "metadata": {},
   "outputs": [],
   "source": []
  },
  {
   "cell_type": "code",
   "execution_count": null,
   "id": "08266221",
   "metadata": {},
   "outputs": [],
   "source": []
  },
  {
   "cell_type": "code",
   "execution_count": null,
   "id": "b68961c9",
   "metadata": {},
   "outputs": [],
   "source": []
  }
 ],
 "metadata": {
  "kernelspec": {
   "display_name": "pfa-venv",
   "language": "python",
   "name": "python3"
  },
  "language_info": {
   "codemirror_mode": {
    "name": "ipython",
    "version": 3
   },
   "file_extension": ".py",
   "mimetype": "text/x-python",
   "name": "python",
   "nbconvert_exporter": "python",
   "pygments_lexer": "ipython3",
   "version": "3.12.3"
  }
 },
 "nbformat": 4,
 "nbformat_minor": 5
}
