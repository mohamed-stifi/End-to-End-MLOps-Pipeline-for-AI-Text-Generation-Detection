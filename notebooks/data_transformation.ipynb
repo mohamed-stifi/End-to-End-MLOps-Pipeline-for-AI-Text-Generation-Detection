{
 "cells": [
  {
   "cell_type": "code",
   "execution_count": 1,
   "id": "d605ad5d",
   "metadata": {},
   "outputs": [
    {
     "data": {
      "text/plain": [
       "'/home/mohamed-stifi/Desktop/pfa-s4/notebooks'"
      ]
     },
     "execution_count": 1,
     "metadata": {},
     "output_type": "execute_result"
    }
   ],
   "source": [
    "%pwd"
   ]
  },
  {
   "cell_type": "code",
   "execution_count": 2,
   "id": "e59f2e30",
   "metadata": {},
   "outputs": [
    {
     "data": {
      "text/plain": [
       "'/home/mohamed-stifi/Desktop/pfa-s4'"
      ]
     },
     "execution_count": 2,
     "metadata": {},
     "output_type": "execute_result"
    }
   ],
   "source": [
    "import os\n",
    "os.chdir('..')\n",
    "\n",
    "%pwd"
   ]
  },
  {
   "cell_type": "code",
   "execution_count": 3,
   "id": "7ef5c75b",
   "metadata": {},
   "outputs": [
    {
     "name": "stdout",
     "output_type": "stream",
     "text": [
      "/home/mohamed-stifi/Desktop/pfa-s4\n"
     ]
    },
    {
     "name": "stderr",
     "output_type": "stream",
     "text": [
      "/home/mohamed-stifi/Desktop/pfa-s4/pfa-venv/lib/python3.12/site-packages/tqdm/auto.py:21: TqdmWarning: IProgress not found. Please update jupyter and ipywidgets. See https://ipywidgets.readthedocs.io/en/stable/user_install.html\n",
      "  from .autonotebook import tqdm as notebook_tqdm\n"
     ]
    }
   ],
   "source": [
    "from text_classifier.components.data_transformation import DataTransformation\n",
    "from text_classifier.config.configuration import ConfigurationManager"
   ]
  },
  {
   "cell_type": "code",
   "execution_count": 4,
   "id": "254b98e2",
   "metadata": {},
   "outputs": [
    {
     "name": "stdout",
     "output_type": "stream",
     "text": [
      "[2025-05-31 23:27:10,994: INFO: common: text_classifier.utils.common: yaml file: /home/mohamed-stifi/Desktop/pfa-s4/config/config.yaml loaded successfully]\n",
      "[2025-05-31 23:27:11,310: INFO: common: text_classifier.utils.common: yaml file: /home/mohamed-stifi/Desktop/pfa-s4/config/params.yaml loaded successfully]\n",
      "[2025-05-31 23:27:11,317: INFO: common: text_classifier.utils.common: created directory at: artifacts]\n",
      "[2025-05-31 23:27:11,318: INFO: common: text_classifier.utils.common: created directory at: artifacts/data_transformation]\n"
     ]
    },
    {
     "data": {
      "text/plain": [
       "DataTransformationConfig(root_dir='artifacts/data_transformation', data_path='artifacts/data_ingestion/extracted_data/AI_Human.csv', tokenizer_name='bert-base-uncased', max_length=512, batch_size=16, test_size=0.2, val_size=0.1)"
      ]
     },
     "execution_count": 4,
     "metadata": {},
     "output_type": "execute_result"
    }
   ],
   "source": [
    "config = ConfigurationManager()\n",
    "data_transformation_config = config.get_data_transformation_config()\n",
    "\n",
    "data_transformation_config"
   ]
  },
  {
   "cell_type": "code",
   "execution_count": 5,
   "id": "29b31666",
   "metadata": {},
   "outputs": [],
   "source": [
    "data_transformation = DataTransformation(data_transformation_config)"
   ]
  },
  {
   "cell_type": "code",
   "execution_count": null,
   "id": "e538c216",
   "metadata": {},
   "outputs": [],
   "source": [
    "import pandas as pd\n",
    "\n",
    "\n",
    "path_to_data = './artifacts/data_ingestion/extracted_data/AI_Human.csv'\n",
    "df = pd.read_csv(path_to_data)\n",
    "\n",
    "df.head()"
   ]
  },
  {
   "cell_type": "code",
   "execution_count": 8,
   "id": "1f0eb059",
   "metadata": {},
   "outputs": [],
   "source": [
    "df_c1 = df[df['generated'] == 1.0][:100]\n",
    "df_c0 = df[df['generated'] == 0.0][:180]"
   ]
  },
  {
   "cell_type": "code",
   "execution_count": 9,
   "id": "dd963fba",
   "metadata": {},
   "outputs": [
    {
     "data": {
      "text/html": [
       "<div>\n",
       "<style scoped>\n",
       "    .dataframe tbody tr th:only-of-type {\n",
       "        vertical-align: middle;\n",
       "    }\n",
       "\n",
       "    .dataframe tbody tr th {\n",
       "        vertical-align: top;\n",
       "    }\n",
       "\n",
       "    .dataframe thead th {\n",
       "        text-align: right;\n",
       "    }\n",
       "</style>\n",
       "<table border=\"1\" class=\"dataframe\">\n",
       "  <thead>\n",
       "    <tr style=\"text-align: right;\">\n",
       "      <th></th>\n",
       "      <th>text</th>\n",
       "      <th>generated</th>\n",
       "    </tr>\n",
       "  </thead>\n",
       "  <tbody>\n",
       "    <tr>\n",
       "      <th>0</th>\n",
       "      <td>This essay will analyze, discuss and prove one...</td>\n",
       "      <td>1.0</td>\n",
       "    </tr>\n",
       "    <tr>\n",
       "      <th>1</th>\n",
       "      <td>I strongly believe that the Electoral College ...</td>\n",
       "      <td>1.0</td>\n",
       "    </tr>\n",
       "    <tr>\n",
       "      <th>2</th>\n",
       "      <td>Limiting car use causes pollution, increases c...</td>\n",
       "      <td>1.0</td>\n",
       "    </tr>\n",
       "    <tr>\n",
       "      <th>3</th>\n",
       "      <td>Car-free cities have become a subject of incre...</td>\n",
       "      <td>1.0</td>\n",
       "    </tr>\n",
       "    <tr>\n",
       "      <th>4</th>\n",
       "      <td>Car Free Cities  Car-free cities, a concept ga...</td>\n",
       "      <td>1.0</td>\n",
       "    </tr>\n",
       "    <tr>\n",
       "      <th>...</th>\n",
       "      <td>...</td>\n",
       "      <td>...</td>\n",
       "    </tr>\n",
       "    <tr>\n",
       "      <th>275</th>\n",
       "      <td>When limiting car usage the first thing that m...</td>\n",
       "      <td>0.0</td>\n",
       "    </tr>\n",
       "    <tr>\n",
       "      <th>276</th>\n",
       "      <td>Dear State Senator, I believe that the Elector...</td>\n",
       "      <td>0.0</td>\n",
       "    </tr>\n",
       "    <tr>\n",
       "      <th>277</th>\n",
       "      <td>Dear my Senator, whats the point in voting if ...</td>\n",
       "      <td>0.0</td>\n",
       "    </tr>\n",
       "    <tr>\n",
       "      <th>278</th>\n",
       "      <td>Cars are a very, very common mode of transport...</td>\n",
       "      <td>0.0</td>\n",
       "    </tr>\n",
       "    <tr>\n",
       "      <th>279</th>\n",
       "      <td>You get pearly on November 6, 2012 ready to vo...</td>\n",
       "      <td>0.0</td>\n",
       "    </tr>\n",
       "  </tbody>\n",
       "</table>\n",
       "<p>280 rows × 2 columns</p>\n",
       "</div>"
      ],
      "text/plain": [
       "                                                  text  generated\n",
       "0    This essay will analyze, discuss and prove one...        1.0\n",
       "1    I strongly believe that the Electoral College ...        1.0\n",
       "2    Limiting car use causes pollution, increases c...        1.0\n",
       "3    Car-free cities have become a subject of incre...        1.0\n",
       "4    Car Free Cities  Car-free cities, a concept ga...        1.0\n",
       "..                                                 ...        ...\n",
       "275  When limiting car usage the first thing that m...        0.0\n",
       "276  Dear State Senator, I believe that the Elector...        0.0\n",
       "277  Dear my Senator, whats the point in voting if ...        0.0\n",
       "278  Cars are a very, very common mode of transport...        0.0\n",
       "279  You get pearly on November 6, 2012 ready to vo...        0.0\n",
       "\n",
       "[280 rows x 2 columns]"
      ]
     },
     "execution_count": 9,
     "metadata": {},
     "output_type": "execute_result"
    }
   ],
   "source": [
    "df_subset = pd.concat([df_c1, df_c0], ignore_index=True)\n",
    "\n",
    "df_subset"
   ]
  },
  {
   "cell_type": "code",
   "execution_count": 9,
   "id": "27fefcb4",
   "metadata": {},
   "outputs": [
    {
     "data": {
      "text/plain": [
       "198"
      ]
     },
     "execution_count": 9,
     "metadata": {},
     "output_type": "execute_result"
    }
   ],
   "source": [
    "len(data_transformation.stop_words)"
   ]
  },
  {
   "cell_type": "markdown",
   "id": "989c3c7f",
   "metadata": {},
   "source": [
    "## Remove punctuation"
   ]
  },
  {
   "cell_type": "code",
   "execution_count": 10,
   "id": "1b7e916d",
   "metadata": {},
   "outputs": [
    {
     "data": {
      "text/plain": [
       "\"This essay will analyze, discuss and prove one reason in favor of keeping the Electoral College in the United States for its presidential elections. One of the reasons to keep the electoral college is that it is better for smaller, more rural states to have more influence as opposed to larger metropolitan areas that have large populations. The electors from these states are granted two votes each. Those from larger, more populated areas are granted just one vote each. Smaller states tend to hold significant power because their two votes for president and vice president add up more than the votes of larger states that have many electors. This is because of the split of the electoral votes. Some argue that electors are not bound to vote for the candidate who won the most votes nationally. They do not have to vote for their own state's nominee unless their state has a winner take all system. However, there are states that have adopted laws that force their electors to vote for their state's candidate. It seems that, no matter how, electors are not bound to vote for the candidate who won the most nationally. This is not always the case because of state legislatures who can overrule the electors and vote for the alternative candidate their citizens have selected for them, even if the voter lives in a state without a winner take all system.\""
      ]
     },
     "execution_count": 10,
     "metadata": {},
     "output_type": "execute_result"
    }
   ],
   "source": [
    "df_subset['text'][0]"
   ]
  },
  {
   "cell_type": "code",
   "execution_count": 11,
   "id": "be712bd0",
   "metadata": {},
   "outputs": [
    {
     "data": {
      "text/plain": [
       "'This essay will analyze discuss and prove one reason in favor of keeping the Electoral College in the United States for its presidential elections One of the reasons to keep the electoral college is that it is better for smaller more rural states to have more influence as opposed to larger metropolitan areas that have large populations The electors from these states are granted two votes each Those from larger more populated areas are granted just one vote each Smaller states tend to hold significant power because their two votes for president and vice president add up more than the votes of larger states that have many electors This is because of the split of the electoral votes Some argue that electors are not bound to vote for the candidate who won the most votes nationally They do not have to vote for their own states nominee unless their state has a winner take all system However there are states that have adopted laws that force their electors to vote for their states candidate It seems that no matter how electors are not bound to vote for the candidate who won the most nationally This is not always the case because of state legislatures who can overrule the electors and vote for the alternative candidate their citizens have selected for them even if the voter lives in a state without a winner take all system'"
      ]
     },
     "execution_count": 11,
     "metadata": {},
     "output_type": "execute_result"
    }
   ],
   "source": [
    "text = data_transformation.remove_punc(df_subset['text'][0])\n",
    "text"
   ]
  },
  {
   "cell_type": "code",
   "execution_count": 12,
   "id": "e7d7ddf8",
   "metadata": {},
   "outputs": [],
   "source": [
    "df_subset['text'] = df_subset['text'].apply(data_transformation.remove_punc)"
   ]
  },
  {
   "cell_type": "markdown",
   "id": "d39713e9",
   "metadata": {},
   "source": [
    "## Remove stopwords with fuzzy matching"
   ]
  },
  {
   "cell_type": "code",
   "execution_count": 13,
   "id": "e35ad2ba",
   "metadata": {},
   "outputs": [
    {
     "name": "stderr",
     "output_type": "stream",
     "text": [
      "Processing Batches:   0%|          | 0/1 [00:00<?, ?it/s]"
     ]
    },
    {
     "name": "stdout",
     "output_type": "stream",
     "text": [
      "/home/mohamed-stifi/Desktop/pfa-s4\n",
      "/home/mohamed-stifi/Desktop/pfa-s4\n"
     ]
    },
    {
     "name": "stderr",
     "output_type": "stream",
     "text": [
      "Processing Batches: 100%|██████████| 1/1 [01:57<00:00, 117.76s/it]\n"
     ]
    }
   ],
   "source": [
    "df_subset = data_transformation.process_in_batches(df_subset, data_transformation.stop_words)"
   ]
  },
  {
   "cell_type": "code",
   "execution_count": 14,
   "metadata": {},
   "outputs": [
    {
     "data": {
      "text/plain": [
       "'essay analyze discuss reason in of keeping Electoral College in United States presidential elections of reasons to keep electoral college is it is better smaller rural states to influence as opposed to larger metropolitan large populations electors states granted votes larger populated granted Smaller states to significant votes president president up votes of larger states electors is of of electoral votes argue electors bound to candidate votes nationally do to states nominee unless a winner states adopted electors to states candidate It seems no matter electors bound to candidate nationally is always of legislatures overrule electors alternative candidate citizens selected if voter in a a winner'"
      ]
     },
     "execution_count": 14,
     "metadata": {},
     "output_type": "execute_result"
    }
   ],
   "source": [
    "df_subset['text'][0]"
   ]
  },
  {
   "cell_type": "markdown",
   "id": "974ca0c9",
   "metadata": {},
   "source": [
    "## Convert to lowercase"
   ]
  },
  {
   "cell_type": "code",
   "execution_count": 15,
   "id": "a4ceee9f",
   "metadata": {},
   "outputs": [],
   "source": [
    "df_subset['text'] = df_subset['text'].str.lower()"
   ]
  },
  {
   "cell_type": "markdown",
   "id": "8fca1a88",
   "metadata": {},
   "source": [
    "## Remove extra whitespace"
   ]
  },
  {
   "cell_type": "code",
   "execution_count": 16,
   "metadata": {},
   "outputs": [],
   "source": [
    "df_subset['text'] = df_subset['text'].str.strip()\n",
    "df_subset['text'] = df_subset['text'].str.replace(r'\\s+', ' ', regex=True)\n"
   ]
  },
  {
   "cell_type": "code",
   "execution_count": 17,
   "id": "141ce4b8",
   "metadata": {},
   "outputs": [
    {
     "data": {
      "text/plain": [
       "'essay analyze discuss reason in of keeping electoral college in united states presidential elections of reasons to keep electoral college is it is better smaller rural states to influence as opposed to larger metropolitan large populations electors states granted votes larger populated granted smaller states to significant votes president president up votes of larger states electors is of of electoral votes argue electors bound to candidate votes nationally do to states nominee unless a winner states adopted electors to states candidate it seems no matter electors bound to candidate nationally is always of legislatures overrule electors alternative candidate citizens selected if voter in a a winner'"
      ]
     },
     "execution_count": 17,
     "metadata": {},
     "output_type": "execute_result"
    }
   ],
   "source": [
    "df_subset['text'][0]"
   ]
  },
  {
   "cell_type": "markdown",
   "id": "3af818f8",
   "metadata": {},
   "source": [
    "## Remove empty texts"
   ]
  },
  {
   "cell_type": "code",
   "execution_count": 18,
   "id": "59523523",
   "metadata": {},
   "outputs": [
    {
     "data": {
      "text/plain": [
       "0      True\n",
       "1      True\n",
       "2      True\n",
       "3      True\n",
       "4      True\n",
       "       ... \n",
       "275    True\n",
       "276    True\n",
       "277    True\n",
       "278    True\n",
       "279    True\n",
       "Name: text, Length: 280, dtype: bool"
      ]
     },
     "execution_count": 18,
     "metadata": {},
     "output_type": "execute_result"
    }
   ],
   "source": [
    "df_subset['text'].str.len() > 0"
   ]
  },
  {
   "cell_type": "code",
   "execution_count": 19,
   "id": "ed4acb73",
   "metadata": {},
   "outputs": [],
   "source": [
    "df_subset = df_subset[df_subset['text'].str.len() > 0]"
   ]
  },
  {
   "cell_type": "markdown",
   "id": "05174d45",
   "metadata": {},
   "source": [
    "## Handle imbalanced data"
   ]
  },
  {
   "cell_type": "code",
   "execution_count": 20,
   "id": "2f79741b",
   "metadata": {},
   "outputs": [
    {
     "data": {
      "text/plain": [
       "generated\n",
       "0.0    180\n",
       "1.0    100\n",
       "Name: count, dtype: int64"
      ]
     },
     "execution_count": 20,
     "metadata": {},
     "output_type": "execute_result"
    }
   ],
   "source": [
    "df_subset['generated'].value_counts()"
   ]
  },
  {
   "cell_type": "code",
   "execution_count": 21,
   "id": "18b9e194",
   "metadata": {},
   "outputs": [
    {
     "name": "stdout",
     "output_type": "stream",
     "text": [
      "[2025-05-26 05:09:44,004: INFO: data_transformation: textClassifierLogger: Handling imbalanced data...]\n",
      "[2025-05-26 05:09:44,054: INFO: data_transformation: textClassifierLogger: Human texts: 180]\n",
      "[2025-05-26 05:09:44,056: INFO: data_transformation: textClassifierLogger: AI texts: 100]\n",
      "[2025-05-26 05:09:44,200: INFO: data_transformation: textClassifierLogger: Balanced dataset shape: (200, 2)]\n",
      "[2025-05-26 05:09:44,205: INFO: data_transformation: textClassifierLogger: Final class distribution:]\n",
      "[2025-05-26 05:09:44,212: INFO: data_transformation: textClassifierLogger: generated\n",
      "0.0    100\n",
      "1.0    100\n",
      "Name: count, dtype: int64]\n"
     ]
    }
   ],
   "source": [
    "balanced_df = data_transformation.handle_imbalanced_data(df_subset)"
   ]
  },
  {
   "cell_type": "code",
   "execution_count": 22,
   "id": "4b16ab84",
   "metadata": {},
   "outputs": [
    {
     "data": {
      "text/plain": [
       "generated\n",
       "0.0    100\n",
       "1.0    100\n",
       "Name: count, dtype: int64"
      ]
     },
     "execution_count": 22,
     "metadata": {},
     "output_type": "execute_result"
    }
   ],
   "source": [
    "balanced_df['generated'].value_counts()"
   ]
  },
  {
   "cell_type": "markdown",
   "id": "8439dbcd",
   "metadata": {},
   "source": [
    "## Split dataset"
   ]
  },
  {
   "cell_type": "code",
   "execution_count": 23,
   "metadata": {},
   "outputs": [
    {
     "name": "stdout",
     "output_type": "stream",
     "text": [
      "[2025-05-26 05:11:47,617: INFO: data_transformation: textClassifierLogger: Splitting dataset...]\n",
      "[2025-05-26 05:11:47,734: INFO: data_transformation: textClassifierLogger: Train set: (140, 2)]\n",
      "[2025-05-26 05:11:47,746: INFO: data_transformation: textClassifierLogger: Validation set: (20, 2)]\n",
      "[2025-05-26 05:11:47,749: INFO: data_transformation: textClassifierLogger: Test set: (40, 2)]\n"
     ]
    }
   ],
   "source": [
    "train, val, test = data_transformation.split_dataset(balanced_df)"
   ]
  },
  {
   "cell_type": "markdown",
   "id": "34e84acd",
   "metadata": {},
   "source": [
    "## Convert datasets to features"
   ]
  },
  {
   "cell_type": "code",
   "execution_count": 24,
   "id": "7f676311",
   "metadata": {},
   "outputs": [
    {
     "name": "stdout",
     "output_type": "stream",
     "text": [
      "[2025-05-26 05:13:35,786: INFO: data_transformation: textClassifierLogger: Converting examples to features...]\n",
      "[2025-05-26 05:13:35,805: INFO: data_transformation: textClassifierLogger: Tokenizing data...]\n",
      "[2025-05-26 05:13:36,699: INFO: data_transformation: textClassifierLogger: Tokenizing data...]\n",
      "[2025-05-26 05:13:36,784: INFO: data_transformation: textClassifierLogger: Tokenizing data...]\n"
     ]
    }
   ],
   "source": [
    "train_encodings, val_encodings, test_encodings = data_transformation.convert_examples_to_features(train, val, test)"
   ]
  },
  {
   "cell_type": "code",
   "execution_count": 27,
   "id": "a4ac3fcb",
   "metadata": {},
   "outputs": [
    {
     "data": {
      "text/plain": [
       "dict_keys(['input_ids', 'token_type_ids', 'attention_mask', 'labels'])"
      ]
     },
     "execution_count": 27,
     "metadata": {},
     "output_type": "execute_result"
    }
   ],
   "source": [
    "train_encodings.keys()"
   ]
  },
  {
   "cell_type": "code",
   "execution_count": 33,
   "id": "acee5a7d",
   "metadata": {},
   "outputs": [
    {
     "data": {
      "text/plain": [
       "tensor([  101, 13280,  9084,  2542,  1999,  2651,  2015,  5901,  3923,  6026,\n",
       "         1997,  2482, 23301,  3655,  2003,  8550, 16493,  2004,  1037,  2830])"
      ]
     },
     "execution_count": 33,
     "metadata": {},
     "output_type": "execute_result"
    }
   ],
   "source": [
    "train_encodings['input_ids'][0][:20]"
   ]
  },
  {
   "cell_type": "code",
   "execution_count": 29,
   "id": "3004a6e1",
   "metadata": {},
   "outputs": [
    {
     "data": {
      "text/plain": [
       "torch.Size([140, 512])"
      ]
     },
     "execution_count": 29,
     "metadata": {},
     "output_type": "execute_result"
    }
   ],
   "source": [
    "train_encodings['input_ids'].shape"
   ]
  },
  {
   "cell_type": "code",
   "execution_count": 36,
   "id": "76cd25ee",
   "metadata": {},
   "outputs": [
    {
     "data": {
      "text/plain": [
       "tensor([0, 0, 0, 0, 0, 0, 0, 0, 0, 0, 0, 0, 0, 0, 0, 0, 0, 0, 0, 0])"
      ]
     },
     "execution_count": 36,
     "metadata": {},
     "output_type": "execute_result"
    }
   ],
   "source": [
    "train_encodings['token_type_ids'][0][:20]"
   ]
  },
  {
   "cell_type": "code",
   "execution_count": 31,
   "id": "296687b0",
   "metadata": {},
   "outputs": [
    {
     "data": {
      "text/plain": [
       "torch.Size([140, 512])"
      ]
     },
     "execution_count": 31,
     "metadata": {},
     "output_type": "execute_result"
    }
   ],
   "source": [
    "train_encodings['token_type_ids'].shape"
   ]
  },
  {
   "cell_type": "code",
   "execution_count": 38,
   "id": "ca0e74d2",
   "metadata": {},
   "outputs": [
    {
     "data": {
      "text/plain": [
       "tensor([1, 1, 1, 1, 1, 1, 1, 1, 1, 1, 1, 1, 1, 1, 1, 1, 1, 1, 1, 1])"
      ]
     },
     "execution_count": 38,
     "metadata": {},
     "output_type": "execute_result"
    }
   ],
   "source": [
    "train_encodings['attention_mask'][0][:20]"
   ]
  },
  {
   "cell_type": "code",
   "execution_count": 39,
   "id": "d0851766",
   "metadata": {},
   "outputs": [
    {
     "data": {
      "text/plain": [
       "torch.Size([140, 512])"
      ]
     },
     "execution_count": 39,
     "metadata": {},
     "output_type": "execute_result"
    }
   ],
   "source": [
    "train_encodings['attention_mask'].shape"
   ]
  },
  {
   "cell_type": "code",
   "execution_count": 40,
   "id": "1b66c28c",
   "metadata": {},
   "outputs": [
    {
     "data": {
      "text/plain": [
       "tensor([1, 0, 0, 0, 0, 1, 1, 1, 0, 1, 0, 0, 0, 0, 0, 1, 0, 0, 0, 0, 1, 0, 0, 1,\n",
       "        1, 0, 0, 1, 0, 0, 0, 0, 1, 1, 0, 0, 1, 1, 1, 0, 1, 0, 0, 0, 1, 0, 0, 0,\n",
       "        1, 1, 1, 1, 0, 1, 0, 0, 0, 1, 0, 1, 1, 0, 1, 0, 1, 0, 1, 0, 1, 1, 0, 0,\n",
       "        1, 0, 1, 0, 0, 1, 1, 0, 0, 1, 1, 1, 1, 0, 1, 0, 0, 1, 0, 1, 1, 1, 1, 0,\n",
       "        1, 0, 0, 0, 1, 0, 1, 0, 1, 1, 0, 0, 1, 0, 1, 1, 0, 1, 0, 1, 0, 1, 1, 0,\n",
       "        1, 0, 1, 1, 1, 1, 0, 0, 1, 1, 1, 1, 1, 0, 1, 0, 1, 1, 0, 1])"
      ]
     },
     "execution_count": 40,
     "metadata": {},
     "output_type": "execute_result"
    }
   ],
   "source": [
    "train_encodings['labels']"
   ]
  },
  {
   "cell_type": "code",
   "execution_count": 41,
   "id": "7d302c04",
   "metadata": {},
   "outputs": [
    {
     "data": {
      "text/plain": [
       "torch.Size([140])"
      ]
     },
     "execution_count": 41,
     "metadata": {},
     "output_type": "execute_result"
    }
   ],
   "source": [
    "train_encodings['labels'].shape"
   ]
  },
  {
   "cell_type": "markdown",
   "id": "51abe7cb",
   "metadata": {},
   "source": [
    "## Save processed data"
   ]
  },
  {
   "cell_type": "code",
   "execution_count": 42,
   "id": "bac09125",
   "metadata": {},
   "outputs": [
    {
     "name": "stdout",
     "output_type": "stream",
     "text": [
      "[2025-05-26 05:20:34,205: INFO: data_transformation: textClassifierLogger: Saving processed data...]\n",
      "[2025-05-26 05:20:35,269: INFO: data_transformation: textClassifierLogger: Data processing completed and saved successfully!]\n"
     ]
    }
   ],
   "source": [
    "data_transformation.save_data(train_encodings, val_encodings, test_encodings, train, val, test)"
   ]
  },
  {
   "cell_type": "markdown",
   "id": "f6d41508",
   "metadata": {},
   "source": [
    "## Full Data Transformation"
   ]
  },
  {
   "cell_type": "code",
   "execution_count": 10,
   "id": "ee8f4776",
   "metadata": {},
   "outputs": [
    {
     "data": {
      "text/html": [
       "<div>\n",
       "<style scoped>\n",
       "    .dataframe tbody tr th:only-of-type {\n",
       "        vertical-align: middle;\n",
       "    }\n",
       "\n",
       "    .dataframe tbody tr th {\n",
       "        vertical-align: top;\n",
       "    }\n",
       "\n",
       "    .dataframe thead th {\n",
       "        text-align: right;\n",
       "    }\n",
       "</style>\n",
       "<table border=\"1\" class=\"dataframe\">\n",
       "  <thead>\n",
       "    <tr style=\"text-align: right;\">\n",
       "      <th></th>\n",
       "      <th>text</th>\n",
       "      <th>generated</th>\n",
       "    </tr>\n",
       "  </thead>\n",
       "  <tbody>\n",
       "    <tr>\n",
       "      <th>0</th>\n",
       "      <td>This essay will analyze, discuss and prove one...</td>\n",
       "      <td>1.0</td>\n",
       "    </tr>\n",
       "    <tr>\n",
       "      <th>1</th>\n",
       "      <td>I strongly believe that the Electoral College ...</td>\n",
       "      <td>1.0</td>\n",
       "    </tr>\n",
       "    <tr>\n",
       "      <th>2</th>\n",
       "      <td>Limiting car use causes pollution, increases c...</td>\n",
       "      <td>1.0</td>\n",
       "    </tr>\n",
       "    <tr>\n",
       "      <th>3</th>\n",
       "      <td>Car-free cities have become a subject of incre...</td>\n",
       "      <td>1.0</td>\n",
       "    </tr>\n",
       "    <tr>\n",
       "      <th>4</th>\n",
       "      <td>Car Free Cities  Car-free cities, a concept ga...</td>\n",
       "      <td>1.0</td>\n",
       "    </tr>\n",
       "    <tr>\n",
       "      <th>...</th>\n",
       "      <td>...</td>\n",
       "      <td>...</td>\n",
       "    </tr>\n",
       "    <tr>\n",
       "      <th>275</th>\n",
       "      <td>When limiting car usage the first thing that m...</td>\n",
       "      <td>0.0</td>\n",
       "    </tr>\n",
       "    <tr>\n",
       "      <th>276</th>\n",
       "      <td>Dear State Senator, I believe that the Elector...</td>\n",
       "      <td>0.0</td>\n",
       "    </tr>\n",
       "    <tr>\n",
       "      <th>277</th>\n",
       "      <td>Dear my Senator, whats the point in voting if ...</td>\n",
       "      <td>0.0</td>\n",
       "    </tr>\n",
       "    <tr>\n",
       "      <th>278</th>\n",
       "      <td>Cars are a very, very common mode of transport...</td>\n",
       "      <td>0.0</td>\n",
       "    </tr>\n",
       "    <tr>\n",
       "      <th>279</th>\n",
       "      <td>You get pearly on November 6, 2012 ready to vo...</td>\n",
       "      <td>0.0</td>\n",
       "    </tr>\n",
       "  </tbody>\n",
       "</table>\n",
       "<p>280 rows × 2 columns</p>\n",
       "</div>"
      ],
      "text/plain": [
       "                                                  text  generated\n",
       "0    This essay will analyze, discuss and prove one...        1.0\n",
       "1    I strongly believe that the Electoral College ...        1.0\n",
       "2    Limiting car use causes pollution, increases c...        1.0\n",
       "3    Car-free cities have become a subject of incre...        1.0\n",
       "4    Car Free Cities  Car-free cities, a concept ga...        1.0\n",
       "..                                                 ...        ...\n",
       "275  When limiting car usage the first thing that m...        0.0\n",
       "276  Dear State Senator, I believe that the Elector...        0.0\n",
       "277  Dear my Senator, whats the point in voting if ...        0.0\n",
       "278  Cars are a very, very common mode of transport...        0.0\n",
       "279  You get pearly on November 6, 2012 ready to vo...        0.0\n",
       "\n",
       "[280 rows x 2 columns]"
      ]
     },
     "execution_count": 10,
     "metadata": {},
     "output_type": "execute_result"
    }
   ],
   "source": [
    "df_subset = pd.concat([df_c1, df_c0], ignore_index=True)\n",
    "\n",
    "df_subset"
   ]
  },
  {
   "cell_type": "code",
   "execution_count": 11,
   "id": "b9379499",
   "metadata": {},
   "outputs": [
    {
     "name": "stdout",
     "output_type": "stream",
     "text": [
      "[2025-05-26 05:34:35,810: INFO: data_transformation: textClassifierLogger: Starting text preprocessing...]\n",
      "[2025-05-26 05:34:35,828: INFO: data_transformation: textClassifierLogger: Removing punctuation...]\n",
      "[2025-05-26 05:34:36,125: INFO: data_transformation: textClassifierLogger: Removing stopwords with fuzzy matching...]\n"
     ]
    },
    {
     "name": "stderr",
     "output_type": "stream",
     "text": [
      "Processing Batches:   0%|          | 0/1 [00:00<?, ?it/s]"
     ]
    },
    {
     "name": "stdout",
     "output_type": "stream",
     "text": [
      "/home/mohamed-stifi/Desktop/pfa-s4\n",
      "/home/mohamed-stifi/Desktop/pfa-s4\n"
     ]
    },
    {
     "name": "stderr",
     "output_type": "stream",
     "text": [
      "Processing Batches: 100%|██████████| 1/1 [01:53<00:00, 113.19s/it]"
     ]
    },
    {
     "name": "stdout",
     "output_type": "stream",
     "text": [
      "[2025-05-26 05:36:29,329: INFO: data_transformation: textClassifierLogger: Converting to lowercase...]\n",
      "[2025-05-26 05:36:29,335: INFO: data_transformation: textClassifierLogger: Cleaning whitespace...]\n",
      "[2025-05-26 05:36:29,470: INFO: data_transformation: textClassifierLogger: Preprocessing completed. Final dataset shape: (280, 2)]\n",
      "[2025-05-26 05:36:29,473: INFO: data_transformation: textClassifierLogger: Handling imbalanced data...]\n",
      "[2025-05-26 05:36:29,481: INFO: data_transformation: textClassifierLogger: Human texts: 180]\n",
      "[2025-05-26 05:36:29,483: INFO: data_transformation: textClassifierLogger: AI texts: 100]\n",
      "[2025-05-26 05:36:29,493: INFO: data_transformation: textClassifierLogger: Balanced dataset shape: (200, 2)]\n",
      "[2025-05-26 05:36:29,501: INFO: data_transformation: textClassifierLogger: Final class distribution:]\n"
     ]
    },
    {
     "name": "stderr",
     "output_type": "stream",
     "text": [
      "\n"
     ]
    },
    {
     "name": "stdout",
     "output_type": "stream",
     "text": [
      "[2025-05-26 05:36:29,577: INFO: data_transformation: textClassifierLogger: generated\n",
      "0.0    100\n",
      "1.0    100\n",
      "Name: count, dtype: int64]\n",
      "[2025-05-26 05:36:29,586: INFO: data_transformation: textClassifierLogger: Splitting dataset...]\n",
      "[2025-05-26 05:36:29,625: INFO: data_transformation: textClassifierLogger: Train set: (140, 2)]\n",
      "[2025-05-26 05:36:29,627: INFO: data_transformation: textClassifierLogger: Validation set: (20, 2)]\n",
      "[2025-05-26 05:36:29,631: INFO: data_transformation: textClassifierLogger: Test set: (40, 2)]\n",
      "[2025-05-26 05:36:29,637: INFO: data_transformation: textClassifierLogger: Converting examples to features...]\n",
      "[2025-05-26 05:36:29,643: INFO: data_transformation: textClassifierLogger: Tokenizing data...]\n",
      "[2025-05-26 05:36:30,318: INFO: data_transformation: textClassifierLogger: Tokenizing data...]\n",
      "[2025-05-26 05:36:30,448: INFO: data_transformation: textClassifierLogger: Tokenizing data...]\n",
      "[2025-05-26 05:36:30,577: INFO: data_transformation: textClassifierLogger: Saving processed data...]\n",
      "[2025-05-26 05:36:31,083: INFO: data_transformation: textClassifierLogger: Data processing completed and saved successfully!]\n"
     ]
    }
   ],
   "source": [
    "results = data_transformation.transform_data(df_subset)"
   ]
  },
  {
   "cell_type": "code",
   "execution_count": 12,
   "id": "7c65cf9c",
   "metadata": {},
   "outputs": [
    {
     "data": {
      "text/plain": [
       "dict_keys(['train_encodings', 'val_encodings', 'test_encodings', 'train_df', 'val_df', 'test_df'])"
      ]
     },
     "execution_count": 12,
     "metadata": {},
     "output_type": "execute_result"
    }
   ],
   "source": [
    "results.keys()"
   ]
  }
 ],
 "metadata": {
  "kernelspec": {
   "display_name": "pfa-venv",
   "language": "python",
   "name": "python3"
  },
  "language_info": {
   "codemirror_mode": {
    "name": "ipython",
    "version": 3
   },
   "file_extension": ".py",
   "mimetype": "text/x-python",
   "name": "python",
   "nbconvert_exporter": "python",
   "pygments_lexer": "ipython3",
   "version": "3.12.3"
  }
 },
 "nbformat": 4,
 "nbformat_minor": 5
}
