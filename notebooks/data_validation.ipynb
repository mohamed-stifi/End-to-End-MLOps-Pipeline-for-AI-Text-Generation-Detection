{
 "cells": [
  {
   "cell_type": "code",
   "execution_count": 1,
   "id": "6c7beb55",
   "metadata": {},
   "outputs": [
    {
     "data": {
      "text/plain": [
       "'/home/mohamed-stifi/Desktop/pfa-s4/notebooks'"
      ]
     },
     "execution_count": 1,
     "metadata": {},
     "output_type": "execute_result"
    }
   ],
   "source": [
    "%pwd"
   ]
  },
  {
   "cell_type": "code",
   "execution_count": 2,
   "id": "16bc19e0",
   "metadata": {},
   "outputs": [
    {
     "data": {
      "text/plain": [
       "'/home/mohamed-stifi/Desktop/pfa-s4'"
      ]
     },
     "execution_count": 2,
     "metadata": {},
     "output_type": "execute_result"
    }
   ],
   "source": [
    "import os\n",
    "os.chdir('../')\n",
    "%pwd"
   ]
  },
  {
   "cell_type": "code",
   "execution_count": 3,
   "id": "198b8408",
   "metadata": {},
   "outputs": [
    {
     "name": "stdout",
     "output_type": "stream",
     "text": [
      "/home/mohamed-stifi/Desktop/pfa-s4\n"
     ]
    }
   ],
   "source": [
    "from text_classifier.components.data_validation import DataValidation\n",
    "from text_classifier.config.configuration import ConfigurationManager"
   ]
  },
  {
   "cell_type": "code",
   "execution_count": 4,
   "id": "e203a562",
   "metadata": {},
   "outputs": [
    {
     "name": "stdout",
     "output_type": "stream",
     "text": [
      "[2025-05-25 22:52:44,592: INFO: common: text_classifier.utils.common: yaml file: /home/mohamed-stifi/Desktop/pfa-s4/config/config.yaml loaded successfully]\n",
      "[2025-05-25 22:52:44,602: INFO: common: text_classifier.utils.common: yaml file: /home/mohamed-stifi/Desktop/pfa-s4/config/params.yaml loaded successfully]\n",
      "[2025-05-25 22:52:44,604: INFO: common: text_classifier.utils.common: created directory at: artifacts]\n",
      "[2025-05-25 22:52:44,606: INFO: common: text_classifier.utils.common: created directory at: artifacts/data_validation]\n"
     ]
    },
    {
     "data": {
      "text/plain": [
       "DataValidationConfig(root_dir='artifacts/data_validation', status_file='artifacts/data_validation/status.txt', required_files=BoxList(['artifacts/data_ingestion/extracted_data/AI_Human.csv']))"
      ]
     },
     "execution_count": 4,
     "metadata": {},
     "output_type": "execute_result"
    }
   ],
   "source": [
    "config = ConfigurationManager()\n",
    "data_validation_config = config.get_data_validation_config()\n",
    "\n",
    "data_validation_config"
   ]
  },
  {
   "cell_type": "code",
   "execution_count": 5,
   "id": "dd8b576a",
   "metadata": {},
   "outputs": [
    {
     "data": {
      "text/plain": [
       "<text_classifier.components.data_validation.DataValidation at 0x7bb2681d5940>"
      ]
     },
     "execution_count": 5,
     "metadata": {},
     "output_type": "execute_result"
    }
   ],
   "source": [
    "data_validation = DataValidation(data_validation_config)\n",
    "data_validation"
   ]
  },
  {
   "cell_type": "code",
   "execution_count": 6,
   "id": "7ed46d19",
   "metadata": {},
   "outputs": [
    {
     "name": "stdout",
     "output_type": "stream",
     "text": [
      "[2025-05-25 22:52:47,392: INFO: data_validation: textClassifierLogger: Data Validation Result: True]\n"
     ]
    },
    {
     "data": {
      "text/plain": [
       "True"
      ]
     },
     "execution_count": 6,
     "metadata": {},
     "output_type": "execute_result"
    }
   ],
   "source": [
    "data_validation.validate_all_files_exist()"
   ]
  }
 ],
 "metadata": {
  "kernelspec": {
   "display_name": "pfa-venv",
   "language": "python",
   "name": "python3"
  },
  "language_info": {
   "codemirror_mode": {
    "name": "ipython",
    "version": 3
   },
   "file_extension": ".py",
   "mimetype": "text/x-python",
   "name": "python",
   "nbconvert_exporter": "python",
   "pygments_lexer": "ipython3",
   "version": "3.12.3"
  }
 },
 "nbformat": 4,
 "nbformat_minor": 5
}
